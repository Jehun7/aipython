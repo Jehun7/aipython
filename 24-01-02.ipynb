{
  "nbformat": 4,
  "nbformat_minor": 0,
  "metadata": {
    "colab": {
      "provenance": [],
      "toc_visible": true,
      "authorship_tag": "ABX9TyNoA+pX8Jj3ZKVsGCxA5YeE",
      "include_colab_link": true
    },
    "kernelspec": {
      "name": "python3",
      "display_name": "Python 3"
    },
    "language_info": {
      "name": "python"
    }
  },
  "cells": [
    {
      "cell_type": "markdown",
      "metadata": {
        "id": "view-in-github",
        "colab_type": "text"
      },
      "source": [
        "<a href=\"https://colab.research.google.com/github/Jehun7/aipython/blob/main/24-01-02.ipynb\" target=\"_parent\"><img src=\"https://colab.research.google.com/assets/colab-badge.svg\" alt=\"Open In Colab\"/></a>"
      ]
    },
    {
      "cell_type": "code",
      "execution_count": null,
      "metadata": {
        "colab": {
          "base_uri": "https://localhost:8080/"
        },
        "id": "O2LXOB0kB7jN",
        "outputId": "571f1bc5-1b6f-4772-da58-3d97082a6b89"
      },
      "outputs": [
        {
          "output_type": "stream",
          "name": "stdout",
          "text": [
            "우리가 수업하는 실습실:\n",
            "105\n"
          ]
        }
      ],
      "source": [
        "#2-6\n",
        "Lab = 105\n",
        "print('우리가 수업하는 실습실:')\n",
        "print(Lab)"
      ]
    },
    {
      "cell_type": "code",
      "source": [
        "#2-7\n",
        "Lab = 105\n",
        "print('우리가 수업하는 실습실:', Lab)"
      ],
      "metadata": {
        "colab": {
          "base_uri": "https://localhost:8080/"
        },
        "id": "dFmDX7rzCeRg",
        "outputId": "4aeae3f6-e428-4b88-a86d-dabcf1c06fdc"
      },
      "execution_count": null,
      "outputs": [
        {
          "output_type": "stream",
          "name": "stdout",
          "text": [
            "우리가 수업하는 실습실: 105\n"
          ]
        }
      ]
    },
    {
      "cell_type": "code",
      "source": [
        "#2-8\n",
        "my_id = 20150001\n",
        "grade = 1\n",
        "\n",
        "print('나의 학번: ')\n",
        "print(my_id)\n",
        "print('학년: ')\n",
        "print(grade)"
      ],
      "metadata": {
        "colab": {
          "base_uri": "https://localhost:8080/"
        },
        "id": "G6rruoFdCqnf",
        "outputId": "0ddb2089-8d32-44de-9c54-5b294c19bfd3"
      },
      "execution_count": null,
      "outputs": [
        {
          "output_type": "stream",
          "name": "stdout",
          "text": [
            "나의 학번: \n",
            "20150001\n",
            "학년: \n",
            "1\n"
          ]
        }
      ]
    },
    {
      "cell_type": "code",
      "source": [
        "#2-9\n",
        "dollars = 2.75\n",
        "print('I have', dollars, 'in my account!')"
      ],
      "metadata": {
        "colab": {
          "base_uri": "https://localhost:8080/"
        },
        "id": "mx5mRYhUC5nv",
        "outputId": "d3fd9995-2d60-4832-97fe-c83a551a88b8"
      },
      "execution_count": null,
      "outputs": [
        {
          "output_type": "stream",
          "name": "stdout",
          "text": [
            "I have 2.75 in my account!\n"
          ]
        }
      ]
    },
    {
      "cell_type": "code",
      "source": [
        "#2-10\n",
        "dollars = 2.75\n",
        "print('I have', dollars, 'in my account')\n",
        "\n",
        "dollars = 99.95\n",
        "print('But now I have', dollars, 'in my account!')"
      ],
      "metadata": {
        "colab": {
          "base_uri": "https://localhost:8080/"
        },
        "id": "mI0D50K8DWtm",
        "outputId": "6bf8a5c7-7a5a-4ea6-94ee-4af63c1855ce"
      },
      "execution_count": null,
      "outputs": [
        {
          "output_type": "stream",
          "name": "stdout",
          "text": [
            "I have 2.75 in my account\n",
            "But now I have 99.95 in my account!\n"
          ]
        }
      ]
    },
    {
      "cell_type": "code",
      "source": [
        "department = '국어국문학과'\n",
        "name = '홍길동'\n",
        "print(department, name)"
      ],
      "metadata": {
        "colab": {
          "base_uri": "https://localhost:8080/"
        },
        "id": "l7RkDfLLD1pg",
        "outputId": "6cfe517a-b5f3-40d7-d78d-f51899317928"
      },
      "execution_count": null,
      "outputs": [
        {
          "output_type": "stream",
          "name": "stdout",
          "text": [
            "정치외교학과 노제훈\n"
          ]
        }
      ]
    },
    {
      "cell_type": "code",
      "source": [
        "#2-11\n",
        "department = input('학과명: ')\n",
        "name = input('성명: ')\n",
        "print('안녕하세요', department, name)\n"
      ],
      "metadata": {
        "colab": {
          "base_uri": "https://localhost:8080/"
        },
        "id": "V1OnU4mHEldt",
        "outputId": "1261426e-b053-4daf-a44b-c9f9a4b229a1"
      },
      "execution_count": null,
      "outputs": [
        {
          "output_type": "stream",
          "name": "stdout",
          "text": [
            "학과명: 정치외교학과\n",
            "성명: 노제훈\n",
            "안녕하세요 정치외교학과 노제훈\n"
          ]
        }
      ]
    },
    {
      "cell_type": "code",
      "source": [
        "#2-12\n",
        "name = input('당신의 이름은 무엇입니까? ')\n",
        "age = int(input('나이는 어떻게 되시나요?')) #>int는 정수였다\n",
        "attending_time = float(input('통학시간은 얼마나 걸립니까?')) #>float는 실수( 소숫점자리까지 존재하는것)\n",
        "\n",
        "print('입력 정보는 다음과 같습니다.')\n",
        "print('이름:', name)\n",
        "print('나이:', age)\n",
        "print('통학시간:', attending_time)\n"
      ],
      "metadata": {
        "colab": {
          "base_uri": "https://localhost:8080/"
        },
        "id": "QGu-3GOmFJav",
        "outputId": "6154759f-a555-4f3e-cbd0-6feae03c7d56"
      },
      "execution_count": null,
      "outputs": [
        {
          "output_type": "stream",
          "name": "stdout",
          "text": [
            "당신의 이름은 무엇입니까? 홍길동\n",
            "나이는 어떻게 되시나요?20\n",
            "통학시간은 얼마나 걸립니까?2\n",
            "입력 정보는 다음과 같습니다.\n",
            "이름: 홍길동\n",
            "나이: 20\n",
            "통학시간: 2.0\n"
          ]
        }
      ]
    },
    {
      "cell_type": "code",
      "source": [
        "#2-13\n",
        "salary = 2500.0\n",
        "bonus = 1200.0\n",
        "\n",
        "pay=salary + bonus\n",
        "print('총급여: ', pay)"
      ],
      "metadata": {
        "colab": {
          "base_uri": "https://localhost:8080/"
        },
        "id": "Xlhhzr8pGTgb",
        "outputId": "c0f746aa-e795-428b-8f91-9fe417ba429a"
      },
      "execution_count": null,
      "outputs": [
        {
          "output_type": "stream",
          "name": "stdout",
          "text": [
            "총급여:  3700.0\n"
          ]
        }
      ]
    },
    {
      "cell_type": "code",
      "source": [
        "#2-14\n",
        "original_price = float(input(\"제품의 원가를 입력해주세요:\"))\n",
        "discount = original_price * 0.2\n",
        "sale_price = original_price - discount\n",
        "print('할인가격:', sale_price)"
      ],
      "metadata": {
        "colab": {
          "base_uri": "https://localhost:8080/"
        },
        "id": "eSrav2TfGn6F",
        "outputId": "88bfa24f-8792-4d4c-d781-9bec07407da6"
      },
      "execution_count": null,
      "outputs": [
        {
          "output_type": "stream",
          "name": "stdout",
          "text": [
            "제품의 원가를 입력해주세요:100.00\n",
            "할인가격: 80.0\n"
          ]
        }
      ]
    },
    {
      "cell_type": "code",
      "source": [
        "#2-15\n",
        "test1 = float(input('첫 번째 과목 점수를 입력해주세요:'))\n",
        "test2 = float(input('두 번째 과목 점수를 입력해주세요:'))\n",
        "test3 = float(input('세 번째 과목 점수를 입력해주세요:'))\n",
        "average = (test1 +test2 + test3) / 3.0\n",
        "print('3 과목의 점수:', average)"
      ],
      "metadata": {
        "colab": {
          "base_uri": "https://localhost:8080/"
        },
        "id": "NOA2UeKuHXbq",
        "outputId": "e382a2f7-1670-4eb4-a327-532a010e570d"
      },
      "execution_count": null,
      "outputs": [
        {
          "output_type": "stream",
          "name": "stdout",
          "text": [
            "첫 번째 과목 점수를 입력해주세요:90\n",
            "두 번째 과목 점수를 입력해주세요:80\n",
            "세 번째 과목 점수를 입력해주세요:100\n",
            "3 과목의 점수: 90.0\n"
          ]
        }
      ]
    },
    {
      "cell_type": "code",
      "source": [
        "#2-16\n",
        "total_seconds = float(input('시간 값을 초 단위로 입력해주세요'))\n",
        "hours = total_seconds // 3600\n",
        "minutes = (total_seconds // 60)% 60\n",
        "seconds = total_seconds % 60\n",
        "print('시 분 초는 다음과 같습니다.')\n",
        "print('시: ', hours)\n",
        "print('분: ', minutes)\n",
        "print('초: ', seconds)\n"
      ],
      "metadata": {
        "colab": {
          "base_uri": "https://localhost:8080/"
        },
        "id": "xDp4ayKWIhkp",
        "outputId": "853e6bc1-9101-4674-bc14-9fc6de27677e"
      },
      "execution_count": null,
      "outputs": [
        {
          "output_type": "stream",
          "name": "stdout",
          "text": [
            "시간 값을 초 단위로 입력해주세요11730\n",
            "시 분 초는 다음과 같습니다.\n",
            "시:  3.0\n",
            "분:  15.0\n",
            "초:  30.0\n"
          ]
        }
      ]
    },
    {
      "cell_type": "code",
      "source": [
        "#2-17\n",
        "future_value = float(input('목표 금액을 입력해주세요: '))\n",
        "rate = float(input('연간 이율을 입력해주세요: '))\n",
        "years = int(input('저축 기간을 연 단위로 입력해주세요: '))\n",
        "present_value = future_value / (1.0 + rate)**years\n",
        "\n",
        "print('적립 금액: ', present_value)"
      ],
      "metadata": {
        "colab": {
          "base_uri": "https://localhost:8080/"
        },
        "id": "yGkAh2AxJq-H",
        "outputId": "cb17ea61-a2fd-41df-e5b7-df9bf238b713"
      },
      "execution_count": null,
      "outputs": [
        {
          "output_type": "stream",
          "name": "stdout",
          "text": [
            "목표 금액을 입력해주세요: 10000.0\n",
            "연간 이율을 입력해주세요: 0.05\n",
            "저축 기간을 연 단위로 입력해주세요: 10\n",
            "적립 금액:  6139.132535407592\n"
          ]
        }
      ]
    },
    {
      "cell_type": "code",
      "source": [
        "#2-18\n",
        "print('a','b','c')\n",
        "print('a','b','c',sep='')\n",
        "print('a','b','c',sep='***')"
      ],
      "metadata": {
        "colab": {
          "base_uri": "https://localhost:8080/"
        },
        "id": "2FzP03k5JvGe",
        "outputId": "bf5e040a-b9c6-4a2d-812c-3dac69504c49"
      },
      "execution_count": null,
      "outputs": [
        {
          "output_type": "stream",
          "name": "stdout",
          "text": [
            "a b c\n",
            "abc\n",
            "a***b***c\n"
          ]
        }
      ]
    },
    {
      "cell_type": "code",
      "source": [
        "#2-19\n",
        "print('a')\n",
        "print('b')\n",
        "print('c', end='')\n",
        "print('d', end='')\n",
        "print('e', end='***')\n",
        "print('f')"
      ],
      "metadata": {
        "colab": {
          "base_uri": "https://localhost:8080/"
        },
        "id": "Gj5g8IdbKGFo",
        "outputId": "76b81781-88e7-4f7d-8f0a-71a8c536994f"
      },
      "execution_count": null,
      "outputs": [
        {
          "output_type": "stream",
          "name": "stdout",
          "text": [
            "a\n",
            "b\n",
            "cde***f\n"
          ]
        }
      ]
    },
    {
      "cell_type": "code",
      "source": [
        "#2-20\n",
        "amount_due = 5000.0\n",
        "monthly_payment = amount_due / 12.0\n",
        "print('월급여: ', monthly_payment)"
      ],
      "metadata": {
        "colab": {
          "base_uri": "https://localhost:8080/"
        },
        "id": "o4VCLPp2KQ2G",
        "outputId": "55bdd53e-4783-4620-c7be-7d569a8bca09"
      },
      "execution_count": null,
      "outputs": [
        {
          "output_type": "stream",
          "name": "stdout",
          "text": [
            "월급여:  416.6666666666667\n"
          ]
        }
      ]
    },
    {
      "cell_type": "code",
      "source": [
        "#2-21\n",
        "amount_due = 5000.0\n",
        "monthly_payment = amount_due / 12\n",
        "print('월급여: ', format(monthly_payment, '.2f'))"
      ],
      "metadata": {
        "colab": {
          "base_uri": "https://localhost:8080/"
        },
        "id": "EKnrhuCiKTz_",
        "outputId": "361e4eb3-4c9d-44ea-ea82-a10d3980a4c4"
      },
      "execution_count": null,
      "outputs": [
        {
          "output_type": "stream",
          "name": "stdout",
          "text": [
            "월급여:  416.67\n"
          ]
        }
      ]
    },
    {
      "cell_type": "code",
      "source": [
        "#2-22\n",
        "monthly_pay = 5000.0\n",
        "annual_pay = monthly_pay * 12\n",
        "print('연봉: $', format(annual_pay, ',.2f'), sep='')"
      ],
      "metadata": {
        "colab": {
          "base_uri": "https://localhost:8080/"
        },
        "id": "laIMAYDqKa0a",
        "outputId": "9def2a25-759f-4bf3-f8e9-be6ac1a5befd"
      },
      "execution_count": null,
      "outputs": [
        {
          "output_type": "stream",
          "name": "stdout",
          "text": [
            "연봉: $60,000.00\n"
          ]
        }
      ]
    }
  ]
}