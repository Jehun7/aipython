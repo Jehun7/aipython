{
  "nbformat": 4,
  "nbformat_minor": 0,
  "metadata": {
    "colab": {
      "provenance": [],
      "authorship_tag": "ABX9TyPjg1SzdDTZvaToQA6AVmdY",
      "include_colab_link": true
    },
    "kernelspec": {
      "name": "python3",
      "display_name": "Python 3"
    },
    "language_info": {
      "name": "python"
    }
  },
  "cells": [
    {
      "cell_type": "markdown",
      "metadata": {
        "id": "view-in-github",
        "colab_type": "text"
      },
      "source": [
        "<a href=\"https://colab.research.google.com/github/Jehun7/aipython/blob/main/24-01-04.ipynb\" target=\"_parent\"><img src=\"https://colab.research.google.com/assets/colab-badge.svg\" alt=\"Open In Colab\"/></a>"
      ]
    },
    {
      "cell_type": "code",
      "source": [
        "data_list=[]\n",
        "for i in range(4):\n",
        "  입력값=input(\"학생의 점수를 입력하세요.\")\n",
        "  if 입력값.isdigit():\n",
        "        data_list.append(float(입력값))\n",
        "  else :\n",
        "    print(\"\", end=\"\")\n",
        "입력데이터=list(map(int, data_list))\n",
        "print(\"입력 데이터 출력 :\",입력데이터)\n",
        "print(\"합계 :\", sum(입력데이터))\n",
        "print(\"인원수 :\", len(입력데이터))\n",
        "print(\"평균 : %.3f\"%(sum(입력데이터)/len(입력데이터)))"
      ],
      "metadata": {
        "colab": {
          "base_uri": "https://localhost:8080/"
        },
        "id": "-qR3AXuXcks-",
        "outputId": "a9d4af92-daea-4e77-8580-9ea45636145d"
      },
      "execution_count": 3,
      "outputs": [
        {
          "output_type": "stream",
          "name": "stdout",
          "text": [
            "학생의 점수를 입력하세요.90\n",
            "학생의 점수를 입력하세요.70\n",
            "학생의 점수를 입력하세요.30\n",
            "학생의 점수를 입력하세요.x\n",
            "입력 데이터 출력 : [90, 70, 30]\n",
            "합계 : 190\n",
            "인원수 : 3\n",
            "평균 : 63.333\n"
          ]
        }
      ]
    },
    {
      "cell_type": "code",
      "source": [],
      "metadata": {
        "id": "s62BQgHEfYj2"
      },
      "execution_count": null,
      "outputs": []
    }
  ]
}