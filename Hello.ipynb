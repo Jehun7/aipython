{
  "nbformat": 4,
  "nbformat_minor": 0,
  "metadata": {
    "colab": {
      "provenance": [],
      "authorship_tag": "ABX9TyNbkmf+lYE5pZkwSSUTPugE",
      "include_colab_link": true
    },
    "kernelspec": {
      "name": "python3",
      "display_name": "Python 3"
    },
    "language_info": {
      "name": "python"
    }
  },
  "cells": [
    {
      "cell_type": "markdown",
      "metadata": {
        "id": "view-in-github",
        "colab_type": "text"
      },
      "source": [
        "<a href=\"https://colab.research.google.com/github/Jehun7/aipython/blob/main/Hello.ipynb\" target=\"_parent\"><img src=\"https://colab.research.google.com/assets/colab-badge.svg\" alt=\"Open In Colab\"/></a>"
      ]
    },
    {
      "cell_type": "markdown",
      "source": [
        "헬로우 월드 출력코드"
      ],
      "metadata": {
        "id": "KiYN7IF9MTE3"
      }
    },
    {
      "cell_type": "code",
      "source": [
        "#헬로우월드 출력코드\n",
        "\n",
        "print(\"HelloWorld\")"
      ],
      "metadata": {
        "colab": {
          "base_uri": "https://localhost:8080/"
        },
        "id": "vxwfZAO7LcX3",
        "outputId": "a0c0b869-be65-425f-f8b3-d9c91d8ba1b8"
      },
      "execution_count": 10,
      "outputs": [
        {
          "output_type": "stream",
          "name": "stdout",
          "text": [
            "HelloWorld\n"
          ]
        }
      ]
    },
    {
      "cell_type": "code",
      "execution_count": null,
      "metadata": {
        "id": "9xRx-TLOLGeV"
      },
      "outputs": [],
      "source": [
        "print(\"HelloWorld\")"
      ]
    }
  ]
}